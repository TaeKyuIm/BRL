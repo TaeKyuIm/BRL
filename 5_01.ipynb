{
 "cells": [
  {
   "cell_type": "code",
   "execution_count": 1,
   "metadata": {},
   "outputs": [],
   "source": [
    "from BRL import *\n",
    "from optimizer2 import solve\n",
    "import numpy as np"
   ]
  },
  {
   "cell_type": "code",
   "execution_count": 2,
   "metadata": {},
   "outputs": [],
   "source": [
    "traffic_volume = {\n",
    "    'r1_0_1': 1005,\n",
    "    'r1_1_0': 1553,\n",
    "    'r2_1_2': 1180,\n",
    "    'r2_2_1': 1682,\n",
    "    'r3_2_3': 1911,\n",
    "    'r3_3_2': 1424,\n",
    "    'r4_3_4': 1628,\n",
    "    'r4_4_3': 1494,\n",
    "    'r5_4_1': 1084,\n",
    "    'r5_1_4': 1454\n",
    "}"
   ]
  },
  {
   "cell_type": "code",
   "execution_count": 3,
   "metadata": {},
   "outputs": [],
   "source": [
    "e_T = [1005,1553,1180,1682,1911,1424,1628,1494,1084,1454]"
   ]
  },
  {
   "cell_type": "code",
   "execution_count": 4,
   "metadata": {},
   "outputs": [
    {
     "name": "stdout",
     "output_type": "stream",
     "text": [
      "[1005. 1553. 1180. 1682. 1911. 1424. 1628. 1494. 1084. 1454.]\n",
      "[1005, 1553, 1180, 1682, 1911, 1424, 1628, 1494, 1084, 1454]\n",
      "0.0\n"
     ]
    }
   ],
   "source": [
    "solution = solve(e_T=e_T, w2=626, w3=11, w5=1, w6=12, w8=288, w9=78)\n",
    "x = np.zeros(66)\n",
    "for i in solution:\n",
    "    x[i] = solution[i]\n",
    "e = p_matrix@x\n",
    "print(e)\n",
    "print(e_T)\n",
    "print(np.linalg.norm(e_T-e))"
   ]
  },
  {
   "cell_type": "code",
   "execution_count": 5,
   "metadata": {},
   "outputs": [
    {
     "data": {
      "text/plain": [
       "array([   0.,    0.,    0.,    0.,    0.,    0.,    0.,    0., 1005.,\n",
       "          0.,    0.,    0.,    0.,    0.,    0.,    0.,    0., 1553.,\n",
       "          0., 1454.,    0.,    0.,    0.,    0., 1180.,    0.,    0.,\n",
       "        258.,    0.,    0.,    0.,    0.,    0.,  731.,    0.,    0.,\n",
       "       1084.,    0.,    0., 1494.,    0.,    0.,    0.,    0.,    0.,\n",
       "          0.,    0.,    0.,    0.,    0.,    0.,    0.,    0.,    0.,\n",
       "          0., 1628.,    0.,    0.,    0.,    0.,    0.,    0., 1424.,\n",
       "          0.,    0.,    0.])"
      ]
     },
     "execution_count": 5,
     "metadata": {},
     "output_type": "execute_result"
    }
   ],
   "source": [
    "x"
   ]
  },
  {
   "cell_type": "code",
   "execution_count": 6,
   "metadata": {},
   "outputs": [
    {
     "data": {
      "text/plain": [
       "array([   0., 1005., 4187.,  989., 1424., 1628.,    0., 2578.])"
      ]
     },
     "execution_count": 6,
     "metadata": {},
     "output_type": "execute_result"
    }
   ],
   "source": [
    "I_matrix@x"
   ]
  },
  {
   "cell_type": "code",
   "execution_count": 7,
   "metadata": {},
   "outputs": [
    {
     "data": {
      "text/plain": [
       "array([   0., 1553., 3771.,    0., 1911., 1494.,    0., 3082.])"
      ]
     },
     "execution_count": 7,
     "metadata": {},
     "output_type": "execute_result"
    }
   ],
   "source": [
    "O_matrix@x"
   ]
  },
  {
   "cell_type": "code",
   "execution_count": 8,
   "metadata": {},
   "outputs": [],
   "source": [
    "from input_output_gen import data_gen"
   ]
  },
  {
   "cell_type": "code",
   "execution_count": 9,
   "metadata": {},
   "outputs": [],
   "source": [
    "traffic_count = data_gen(traffic_volume=traffic_volume)"
   ]
  },
  {
   "cell_type": "code",
   "execution_count": 10,
   "metadata": {},
   "outputs": [],
   "source": [
    "input_answer = []\n",
    "output_answer = []"
   ]
  },
  {
   "cell_type": "code",
   "execution_count": 11,
   "metadata": {},
   "outputs": [],
   "source": [
    "for edge in traffic_count:\n",
    "    input_answer.append(traffic_count[edge]['enter'])\n",
    "    output_answer.append(traffic_count[edge]['exit'])"
   ]
  },
  {
   "cell_type": "code",
   "execution_count": 12,
   "metadata": {},
   "outputs": [
    {
     "data": {
      "text/plain": [
       "[502, 502, 4187, 3593, 1289, 1289, 1526, 1526]"
      ]
     },
     "execution_count": 12,
     "metadata": {},
     "output_type": "execute_result"
    }
   ],
   "source": [
    "input_answer"
   ]
  },
  {
   "cell_type": "code",
   "execution_count": 13,
   "metadata": {},
   "outputs": [
    {
     "data": {
      "text/plain": [
       "[776, 776, 3771, 2604, 1541, 1541, 1702, 1702]"
      ]
     },
     "execution_count": 13,
     "metadata": {},
     "output_type": "execute_result"
    }
   ],
   "source": [
    "output_answer"
   ]
  },
  {
   "attachments": {},
   "cell_type": "markdown",
   "metadata": {},
   "source": [
    "## 풀어보기"
   ]
  },
  {
   "cell_type": "code",
   "execution_count": 14,
   "metadata": {},
   "outputs": [],
   "source": [
    "from optimizer3 import solve"
   ]
  },
  {
   "cell_type": "code",
   "execution_count": 15,
   "metadata": {},
   "outputs": [],
   "source": [
    "status, solver = solve(e_T=e_T)"
   ]
  },
  {
   "cell_type": "code",
   "execution_count": 17,
   "metadata": {},
   "outputs": [
    {
     "ename": "TypeError",
     "evalue": "Cannot interpret [   0.    0.    0.    0.    0.    0.    0.    0. 1005.    0.    0.    0.\n    0.    0.    0.    0.    0. 1553.    0. 1454.    0.    0.    0.    0.\n 1180.    0.    0.  258.    0.    0.    0.    0.    0.  731.    0.    0.\n 1084.    0.    0. 1494.    0.    0.    0.    0.    0.    0.    0.    0.\n    0.    0.    0.    0.    0.    0.    0. 1628.    0.    0.    0.    0.\n    0.    0. 1424.    0.    0.    0.] as a linear expression.",
     "output_type": "error",
     "traceback": [
      "\u001b[1;31m---------------------------------------------------------------------------\u001b[0m",
      "\u001b[1;31mTypeError\u001b[0m                                 Traceback (most recent call last)",
      "\u001b[1;32m~\\AppData\\Local\\Temp\\ipykernel_18536\\3786490489.py\u001b[0m in \u001b[0;36m<module>\u001b[1;34m\u001b[0m\n\u001b[1;32m----> 1\u001b[1;33m \u001b[0msolver\u001b[0m\u001b[1;33m.\u001b[0m\u001b[0mValue\u001b[0m\u001b[1;33m(\u001b[0m\u001b[0mx\u001b[0m\u001b[1;33m)\u001b[0m\u001b[1;33m\u001b[0m\u001b[1;33m\u001b[0m\u001b[0m\n\u001b[0m",
      "\u001b[1;32mc:\\Users\\FILab\\anaconda3\\lib\\site-packages\\ortools\\sat\\python\\cp_model.py\u001b[0m in \u001b[0;36mValue\u001b[1;34m(self, expression)\u001b[0m\n\u001b[0;32m   2274\u001b[0m         \u001b[1;32mif\u001b[0m \u001b[1;32mnot\u001b[0m \u001b[0mself\u001b[0m\u001b[1;33m.\u001b[0m\u001b[0m__solution\u001b[0m\u001b[1;33m:\u001b[0m\u001b[1;33m\u001b[0m\u001b[1;33m\u001b[0m\u001b[0m\n\u001b[0;32m   2275\u001b[0m             \u001b[1;32mraise\u001b[0m \u001b[0mRuntimeError\u001b[0m\u001b[1;33m(\u001b[0m\u001b[1;34m'Solve() has not be called.'\u001b[0m\u001b[1;33m)\u001b[0m\u001b[1;33m\u001b[0m\u001b[1;33m\u001b[0m\u001b[0m\n\u001b[1;32m-> 2276\u001b[1;33m         \u001b[1;32mreturn\u001b[0m \u001b[0mEvaluateLinearExpr\u001b[0m\u001b[1;33m(\u001b[0m\u001b[0mexpression\u001b[0m\u001b[1;33m,\u001b[0m \u001b[0mself\u001b[0m\u001b[1;33m.\u001b[0m\u001b[0m__solution\u001b[0m\u001b[1;33m)\u001b[0m\u001b[1;33m\u001b[0m\u001b[1;33m\u001b[0m\u001b[0m\n\u001b[0m\u001b[0;32m   2277\u001b[0m \u001b[1;33m\u001b[0m\u001b[0m\n\u001b[0;32m   2278\u001b[0m     \u001b[1;32mdef\u001b[0m \u001b[0mBooleanValue\u001b[0m\u001b[1;33m(\u001b[0m\u001b[0mself\u001b[0m\u001b[1;33m,\u001b[0m \u001b[0mliteral\u001b[0m\u001b[1;33m)\u001b[0m\u001b[1;33m:\u001b[0m\u001b[1;33m\u001b[0m\u001b[1;33m\u001b[0m\u001b[0m\n",
      "\u001b[1;32mc:\\Users\\FILab\\anaconda3\\lib\\site-packages\\ortools\\sat\\python\\cp_model.py\u001b[0m in \u001b[0;36mEvaluateLinearExpr\u001b[1;34m(expression, solution)\u001b[0m\n\u001b[0;32m   2130\u001b[0m         \u001b[1;32mreturn\u001b[0m \u001b[0mint\u001b[0m\u001b[1;33m(\u001b[0m\u001b[0mexpression\u001b[0m\u001b[1;33m)\u001b[0m\u001b[1;33m\u001b[0m\u001b[1;33m\u001b[0m\u001b[0m\n\u001b[0;32m   2131\u001b[0m     \u001b[1;32mif\u001b[0m \u001b[1;32mnot\u001b[0m \u001b[0misinstance\u001b[0m\u001b[1;33m(\u001b[0m\u001b[0mexpression\u001b[0m\u001b[1;33m,\u001b[0m \u001b[0mLinearExpr\u001b[0m\u001b[1;33m)\u001b[0m\u001b[1;33m:\u001b[0m\u001b[1;33m\u001b[0m\u001b[1;33m\u001b[0m\u001b[0m\n\u001b[1;32m-> 2132\u001b[1;33m         raise TypeError('Cannot interpret %s as a linear expression.' %\n\u001b[0m\u001b[0;32m   2133\u001b[0m                         expression)\n\u001b[0;32m   2134\u001b[0m \u001b[1;33m\u001b[0m\u001b[0m\n",
      "\u001b[1;31mTypeError\u001b[0m: Cannot interpret [   0.    0.    0.    0.    0.    0.    0.    0. 1005.    0.    0.    0.\n    0.    0.    0.    0.    0. 1553.    0. 1454.    0.    0.    0.    0.\n 1180.    0.    0.  258.    0.    0.    0.    0.    0.  731.    0.    0.\n 1084.    0.    0. 1494.    0.    0.    0.    0.    0.    0.    0.    0.\n    0.    0.    0.    0.    0.    0.    0. 1628.    0.    0.    0.    0.\n    0.    0. 1424.    0.    0.    0.] as a linear expression."
     ]
    }
   ],
   "source": [
    "solver.Value(x)"
   ]
  },
  {
   "cell_type": "code",
   "execution_count": null,
   "metadata": {},
   "outputs": [],
   "source": []
  }
 ],
 "metadata": {
  "kernelspec": {
   "display_name": "base",
   "language": "python",
   "name": "python3"
  },
  "language_info": {
   "codemirror_mode": {
    "name": "ipython",
    "version": 3
   },
   "file_extension": ".py",
   "mimetype": "text/x-python",
   "name": "python",
   "nbconvert_exporter": "python",
   "pygments_lexer": "ipython3",
   "version": "3.9.13"
  },
  "orig_nbformat": 4
 },
 "nbformat": 4,
 "nbformat_minor": 2
}
